{
 "cells": [
  {
   "cell_type": "code",
   "execution_count": 1,
   "id": "94895eeb-6b87-424a-9908-790254b68e38",
   "metadata": {},
   "outputs": [
    {
     "name": "stdout",
     "output_type": "stream",
     "text": [
      "Accuracy: 0.9954545454545455\n",
      "\n",
      "Classification Report:\n",
      "               precision    recall  f1-score   support\n",
      "\n",
      "       apple       1.00      1.00      1.00        20\n",
      "      banana       1.00      1.00      1.00        20\n",
      "   blackgram       1.00      0.95      0.97        20\n",
      "    chickpea       1.00      1.00      1.00        20\n",
      "     coconut       1.00      1.00      1.00        20\n",
      "      coffee       1.00      1.00      1.00        20\n",
      "      cotton       1.00      1.00      1.00        20\n",
      "      grapes       1.00      1.00      1.00        20\n",
      "        jute       0.95      1.00      0.98        20\n",
      " kidneybeans       1.00      1.00      1.00        20\n",
      "      lentil       1.00      1.00      1.00        20\n",
      "       maize       0.95      1.00      0.98        20\n",
      "       mango       1.00      1.00      1.00        20\n",
      "   mothbeans       1.00      1.00      1.00        20\n",
      "    mungbean       1.00      1.00      1.00        20\n",
      "   muskmelon       1.00      1.00      1.00        20\n",
      "      orange       1.00      1.00      1.00        20\n",
      "      papaya       1.00      1.00      1.00        20\n",
      "  pigeonpeas       1.00      1.00      1.00        20\n",
      " pomegranate       1.00      1.00      1.00        20\n",
      "        rice       1.00      0.95      0.97        20\n",
      "  watermelon       1.00      1.00      1.00        20\n",
      "\n",
      "    accuracy                           1.00       440\n",
      "   macro avg       1.00      1.00      1.00       440\n",
      "weighted avg       1.00      1.00      1.00       440\n",
      "\n"
     ]
    }
   ],
   "source": [
    "import pandas as pd\n",
    "from sklearn.model_selection import train_test_split\n",
    "from sklearn.ensemble import RandomForestClassifier\n",
    "from sklearn.metrics import accuracy_score, classification_report\n",
    "\n",
    "# Load dataset\n",
    "df = pd.read_csv(\"Crop_recommendation.csv\")\n",
    "\n",
    "# Features and target\n",
    "X = df.drop('label', axis=1)\n",
    "y = df['label']\n",
    "\n",
    "# Train-test split\n",
    "X_train, X_test, y_train, y_test = train_test_split(\n",
    "    X, y, test_size=0.2, random_state=42, stratify=y\n",
    ")\n",
    "\n",
    "# Random Forest model\n",
    "model = RandomForestClassifier(n_estimators=200, random_state=42)\n",
    "model.fit(X_train, y_train)\n",
    "\n",
    "# Predictions\n",
    "y_pred = model.predict(X_test)\n",
    "\n",
    "# Evaluation\n",
    "print(\"Accuracy:\", accuracy_score(y_test, y_pred))\n",
    "print(\"\\nClassification Report:\\n\", classification_report(y_test, y_pred))\n"
   ]
  },
  {
   "cell_type": "code",
   "execution_count": null,
   "id": "b700d3f2-fb78-4312-b7dc-de11595c6159",
   "metadata": {},
   "outputs": [],
   "source": []
  }
 ],
 "metadata": {
  "kernelspec": {
   "display_name": "Python 3 (ipykernel)",
   "language": "python",
   "name": "python3"
  },
  "language_info": {
   "codemirror_mode": {
    "name": "ipython",
    "version": 3
   },
   "file_extension": ".py",
   "mimetype": "text/x-python",
   "name": "python",
   "nbconvert_exporter": "python",
   "pygments_lexer": "ipython3",
   "version": "3.12.5"
  }
 },
 "nbformat": 4,
 "nbformat_minor": 5
}
